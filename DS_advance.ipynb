{
  "nbformat": 4,
  "nbformat_minor": 0,
  "metadata": {
    "colab": {
      "provenance": [],
      "authorship_tag": "ABX9TyMFU3BKt9pZ/v2BPV084LYO"
    },
    "kernelspec": {
      "name": "python3",
      "display_name": "Python 3"
    },
    "language_info": {
      "name": "python"
    }
  },
  "cells": [
    {
      "cell_type": "code",
      "execution_count": 80,
      "metadata": {
        "colab": {
          "base_uri": "https://localhost:8080/"
        },
        "id": "IL2tY7EuUd9l",
        "outputId": "e72f0870-6323-462c-ae74-d718a7469f3b"
      },
      "outputs": [
        {
          "output_type": "stream",
          "name": "stdout",
          "text": [
            "Hii , I'm Suman\n",
            "namuS m'I , iiH\n"
          ]
        }
      ],
      "source": [
        "'''1. Write a code to reverse a string?'''\n",
        "\n",
        "def reverse_string(s):\n",
        "    return s[::-1]\n",
        "\n",
        "string = \"Hii , I'm Suman\"\n",
        "reversed_string = reverse_string(string)\n",
        "print(string)\n",
        "print(reversed_string)\n"
      ]
    },
    {
      "cell_type": "code",
      "source": [
        "'''2. Write a code to count the number of vowels in a string?'''\n",
        "def count_vowel(s):\n",
        "    vowels =\"aeiouAEIOU\"\n",
        "    count=0\n",
        "    for char in s:\n",
        "        if char in vowels:\n",
        "            count+=1\n",
        "    return count\n",
        "string = \"She is Learning.\"\n",
        "countsvowel = count_vowel(string)\n",
        "print(f'The number of vowels present is : {countsvowel}')\n"
      ],
      "metadata": {
        "colab": {
          "base_uri": "https://localhost:8080/"
        },
        "id": "74ozTpi7UxOj",
        "outputId": "7b7e100d-ebc9-41bf-d897-603a7486b743"
      },
      "execution_count": 81,
      "outputs": [
        {
          "output_type": "stream",
          "name": "stdout",
          "text": [
            "The number of vowels present is : 5\n"
          ]
        }
      ]
    },
    {
      "cell_type": "code",
      "source": [
        "'''3. Write a code to check if a given string is a palindrome or not?'''\n",
        "def is_palindrome(s):\n",
        "    s= s.lower().replace(\" \",\"\")\n",
        "    return s == s[::-1]\n",
        "\n",
        "input_string = \"A man, a plan, a canal, Panama!\"\n",
        "is_palindrome_result = is_palindrome(input_string)\n",
        "print(\"Input string:\", input_string)\n",
        "print(\"Is palindrome:\", is_palindrome_result)"
      ],
      "metadata": {
        "colab": {
          "base_uri": "https://localhost:8080/"
        },
        "id": "VwWYs-BEU04X",
        "outputId": "7d54c2dd-4b98-4180-d750-48f72eacc68b"
      },
      "execution_count": 82,
      "outputs": [
        {
          "output_type": "stream",
          "name": "stdout",
          "text": [
            "Input string: A man, a plan, a canal, Panama!\n",
            "Is palindrome: False\n"
          ]
        }
      ]
    },
    {
      "cell_type": "code",
      "source": [
        "'''4. Write a code to check if two given strings are anagram of each other?'''\n",
        "\n",
        "#using sorted build-in function\n",
        "\n",
        "def are_anagram(str1,str2):\n",
        "    str1 = str1.lower().replace(\" \",\"\")\n",
        "    str2 = str2.lower().replace(\" \",\"\")\n",
        "    return sorted(str1)==sorted(str2)\n",
        "\n",
        "first_string = \"Damam\"\n",
        "second_string = \"Madam\"\n",
        "anagram_check = are_anagram(first_string,second_string)\n",
        "print(f\"{first_string} and {second_string} are anagram : {anagram_check}\")"
      ],
      "metadata": {
        "colab": {
          "base_uri": "https://localhost:8080/"
        },
        "id": "Eb5_kdHrU00a",
        "outputId": "0d49aa2b-0cdf-44bd-9809-1b2c1fcf78f6"
      },
      "execution_count": 83,
      "outputs": [
        {
          "output_type": "stream",
          "name": "stdout",
          "text": [
            "Damam and Madam are anagram : True\n"
          ]
        }
      ]
    },
    {
      "cell_type": "code",
      "source": [
        "#second method without build-in fn\n",
        "\n",
        "def are_anagram(str1,str2):\n",
        "    str1 = str1.lower().replace(\" \",\"\")\n",
        "    str2 = str2.lower().replace(\" \",\"\")\n",
        "    if len(str1)!= len(str2):\n",
        "        return False\n",
        "    count_str1 = {}\n",
        "    count_str2 = {}\n",
        "\n",
        "    for char in str1:\n",
        "        if char in count_str1:\n",
        "            count_str1[char]+=1\n",
        "        else:\n",
        "            count_str1[char]=1\n",
        "    for char in str2:\n",
        "        if char in count_str2:\n",
        "            count_str2[char]+=1\n",
        "        else:\n",
        "            count_str2[char]=1\n",
        "    return count_str1 == count_str2\n",
        "str1 = \"silent\"\n",
        "str2 = \"listen\"\n",
        "op = are_anagram(str1,str2)\n",
        "print(f\"{str1} and {str2} are anagram :{op}\")"
      ],
      "metadata": {
        "colab": {
          "base_uri": "https://localhost:8080/"
        },
        "id": "MLrXJjivU0w9",
        "outputId": "da201b11-398b-4fae-cbce-8e5bfa24d5f9"
      },
      "execution_count": 84,
      "outputs": [
        {
          "output_type": "stream",
          "name": "stdout",
          "text": [
            "silent and listen are anagram :True\n"
          ]
        }
      ]
    },
    {
      "cell_type": "code",
      "source": [
        "'''\t5. Write a code to find all occurrences of a given substring within another String ?'''\n",
        "\n",
        "def find_substring_occurrences(main_string, substring):\n",
        "    occurrences = []\n",
        "    start = 0\n",
        "    while True:\n",
        "        start = main_string.find(substring, start)\n",
        "        if start == -1:\n",
        "            break\n",
        "        occurrences.append(start)\n",
        "        start += 1  # Move past the last found index to find new occurrences\n",
        "    return occurrences\n",
        "\n",
        "# Example usage:\n",
        "main_string = \"this is a test string and this is a test\"\n",
        "substring = \"is\"\n",
        "print(find_substring_occurrences(main_string, substring))\n",
        "\n"
      ],
      "metadata": {
        "colab": {
          "base_uri": "https://localhost:8080/"
        },
        "id": "UKjdAYhXU0tk",
        "outputId": "a9e00189-ff3e-4729-abed-215bb959f3d8"
      },
      "execution_count": 85,
      "outputs": [
        {
          "output_type": "stream",
          "name": "stdout",
          "text": [
            "[2, 5, 28, 31]\n"
          ]
        }
      ]
    },
    {
      "cell_type": "code",
      "source": [
        "'''6. Write a code to perform basic string compression using the counts of repeated characters. '''\n",
        "\n",
        "def compress_string(s):\n",
        "    compressed = []\n",
        "    count = 1\n",
        "\n",
        "    for i in range(1, len(s)):\n",
        "        if s[i] == s[i - 1]:\n",
        "            count += 1\n",
        "        else:\n",
        "            compressed.append(s[i - 1] + str(count))\n",
        "            count = 1\n",
        "\n",
        "    compressed.append(s[-1] + str(count))  # Append last character and count\n",
        "    compressed_string = ''.join(compressed)\n",
        "\n",
        "    return compressed_string if len(compressed_string) < len(s) else s\n",
        "\n",
        "# Example\n",
        "print(compress_string(\"aaaaaabcccccaaaggff\"))  # Output: \"a2b1c5a3\"\n",
        "\n"
      ],
      "metadata": {
        "id": "D3LzAzDJVtbd",
        "colab": {
          "base_uri": "https://localhost:8080/"
        },
        "outputId": "5740c6e9-6bab-4b39-c7b0-41784d834fe2"
      },
      "execution_count": 86,
      "outputs": [
        {
          "output_type": "stream",
          "name": "stdout",
          "text": [
            "a6b1c5a3g2f2\n"
          ]
        }
      ]
    },
    {
      "cell_type": "code",
      "source": [
        "'''7. Write a code to determine if a string has all unique characters.'''\n",
        "\n",
        "def has_unique_characters(s):\n",
        "  char_set = set() #using set to store characters we encounter\n",
        "  for char in s:\n",
        "    if char in char_set:\n",
        "      return False\n",
        "    char_set.add(char)\n",
        "  return True\n",
        "\n",
        "check_unique_char = has_unique_characters(\"Suman\")\n",
        "print(check_unique_char)"
      ],
      "metadata": {
        "id": "rB3BDW_KZ1HH",
        "colab": {
          "base_uri": "https://localhost:8080/"
        },
        "outputId": "0e8a946f-5787-4971-bc09-ff93293d12ee"
      },
      "execution_count": 87,
      "outputs": [
        {
          "output_type": "stream",
          "name": "stdout",
          "text": [
            "True\n"
          ]
        }
      ]
    },
    {
      "cell_type": "code",
      "source": [
        "'''8. Write a code to convert a given string to uppercase or lowercase.'''\n",
        "\n",
        "def convert_case(s, to_upper=True):\n",
        "    if to_upper:\n",
        "        return s.upper()\n",
        "    else:\n",
        "        return s.lower()\n",
        "\n",
        "# Example usage:\n",
        "string = \"Hello World\"\n",
        "print(convert_case(string, to_upper=True))  # Convert to uppercase: \"HELLO WORLD\"\n",
        "print(convert_case(string, to_upper=False))  # Convert to lowercase: \"hello world\"\n"
      ],
      "metadata": {
        "colab": {
          "base_uri": "https://localhost:8080/"
        },
        "id": "AuibzBxZZ3JZ",
        "outputId": "c6491b72-8d72-4278-d920-78c6561f16f2"
      },
      "execution_count": 88,
      "outputs": [
        {
          "output_type": "stream",
          "name": "stdout",
          "text": [
            "HELLO WORLD\n",
            "hello world\n"
          ]
        }
      ]
    },
    {
      "cell_type": "code",
      "source": [
        "''' 9. Write a code to count the number of words in a string.'''\n",
        "\n",
        "import re\n",
        "def count_words(string):\n",
        "    cleaned_str = re.sub(r'[^a-zA-Z0-9\\s]','',string)  #re.sub(r'[^a-zA-Z0-9\\s]' used for avoiding any digit ,space, special characters\n",
        "    words = cleaned_str.split()\n",
        "    return len(words)\n",
        "\n",
        "string=\"I have submitted assignment both practical and theory through link as asked. After evaluation, it seems evaluator missed to check my theory link.\"\n",
        "counts = count_words(string)\n",
        "print(f'The numbers of words in this string: {counts}')\n"
      ],
      "metadata": {
        "colab": {
          "base_uri": "https://localhost:8080/"
        },
        "id": "FZIFlIV-U0pz",
        "outputId": "67fd5e1b-3905-42c1-d72b-f5d4c909787e"
      },
      "execution_count": 89,
      "outputs": [
        {
          "output_type": "stream",
          "name": "stdout",
          "text": [
            "The numbers of words in this string: 23\n"
          ]
        }
      ]
    },
    {
      "cell_type": "code",
      "source": [
        "'''10. Write a code to concatenate two strings without using the + operators. '''\n",
        "\n",
        "#using join\n",
        "s1 = \"Hello\"\n",
        "s2 = \"World\"\n",
        "s3 = \"\".join([s1,s2])\n",
        "s3\n"
      ],
      "metadata": {
        "id": "OarcX9v5abur",
        "colab": {
          "base_uri": "https://localhost:8080/",
          "height": 35
        },
        "outputId": "485d4a09-7541-428d-f49d-c54ca131f3e6"
      },
      "execution_count": 90,
      "outputs": [
        {
          "output_type": "execute_result",
          "data": {
            "text/plain": [
              "'HelloWorld'"
            ],
            "application/vnd.google.colaboratory.intrinsic+json": {
              "type": "string"
            }
          },
          "metadata": {},
          "execution_count": 90
        }
      ]
    },
    {
      "cell_type": "code",
      "source": [
        "#using f' string\n",
        "result = f'{s1}{s2}'\n",
        "result"
      ],
      "metadata": {
        "colab": {
          "base_uri": "https://localhost:8080/",
          "height": 35
        },
        "id": "A3dPxdHHpwaw",
        "outputId": "556df705-09bf-409c-ede9-d33681a23469"
      },
      "execution_count": 91,
      "outputs": [
        {
          "output_type": "execute_result",
          "data": {
            "text/plain": [
              "'HelloWorld'"
            ],
            "application/vnd.google.colaboratory.intrinsic+json": {
              "type": "string"
            }
          },
          "metadata": {},
          "execution_count": 91
        }
      ]
    },
    {
      "cell_type": "code",
      "source": [
        "#using function\n",
        "\n",
        "def concate(a,b):\n",
        "  return \"\".join([a,b])\n",
        "stringconcate = concate(\"hello\",\"suman\")\n",
        "print(stringconcate)"
      ],
      "metadata": {
        "colab": {
          "base_uri": "https://localhost:8080/"
        },
        "id": "fDtmo7GxqDc0",
        "outputId": "b7e0137a-8f65-4f6d-daa2-ec0d8359637b"
      },
      "execution_count": 92,
      "outputs": [
        {
          "output_type": "stream",
          "name": "stdout",
          "text": [
            "hellosuman\n"
          ]
        }
      ]
    },
    {
      "cell_type": "code",
      "source": [
        "'''11. Write a code to remove all occurrences of a specific element from a list.'''\n",
        "\n",
        "#using list comprehension we can remove all occurances of a specific element from a list\n",
        "def remove_occurrences(lst, element):\n",
        "    return [x for x in lst if x != element]\n",
        "\n",
        "# Example usage\n",
        "my_list = [1,1,2,5,8,7,7,8,9]\n",
        "element_to_remove = 7\n",
        "new_list = remove_occurrences(my_list, element_to_remove)\n",
        "\n",
        "print(new_list)\n"
      ],
      "metadata": {
        "id": "bMHQA1Rsq-Ug",
        "colab": {
          "base_uri": "https://localhost:8080/"
        },
        "outputId": "b4561dfc-0336-47a7-b051-5b598ea3f1d1"
      },
      "execution_count": 93,
      "outputs": [
        {
          "output_type": "stream",
          "name": "stdout",
          "text": [
            "[1, 1, 2, 5, 8, 8, 9]\n"
          ]
        }
      ]
    },
    {
      "cell_type": "code",
      "source": [
        "'''12. Implement a code to find the second largest number in a given list of integers.'''\n",
        "\n",
        "def second_largest_num(lst):\n",
        "  unique_num = list(set(lst)) #to avoid duplicates\n",
        "  if len(unique_num) < 2:\n",
        "    return None\n",
        "  unique_num.sort() #sorting unique numbers in ascending\n",
        "  return unique_num[-2]\n",
        "\n",
        "#example\n",
        "my_list = [2,7,6,5,9]\n",
        "output = second_largest_num(my_list)\n",
        "print(output)"
      ],
      "metadata": {
        "colab": {
          "base_uri": "https://localhost:8080/"
        },
        "id": "RlwWmxHnjmsk",
        "outputId": "d3e69d7d-c409-447f-dc11-4099a5a6953b"
      },
      "execution_count": 94,
      "outputs": [
        {
          "output_type": "stream",
          "name": "stdout",
          "text": [
            "7\n"
          ]
        }
      ]
    },
    {
      "cell_type": "code",
      "source": [
        "'''13. Create a code to count the occurrences of each element in a list and return a dictionary with elements as a keys and their counts as value.'''\n",
        "\n",
        "def count_elements(l):\n",
        "    count = {}\n",
        "    for element in l:\n",
        "        if element in count:\n",
        "            count[element]+=1\n",
        "        else:\n",
        "            count[element]=1\n",
        "    return count\n",
        "\n",
        "lst = [\"Ram\",\"Shyam\",\"Binod\",\"Shyam\",\"Binod\",\"Suraj\"]\n",
        "elements_count = count_elements(lst)\n",
        "print(elements_count)"
      ],
      "metadata": {
        "colab": {
          "base_uri": "https://localhost:8080/"
        },
        "id": "zbAjIK0CU0kN",
        "outputId": "beddb1e4-f2ac-4e59-f88a-a4a052fc2171"
      },
      "execution_count": 95,
      "outputs": [
        {
          "output_type": "stream",
          "name": "stdout",
          "text": [
            "{'Ram': 1, 'Shyam': 2, 'Binod': 2, 'Suraj': 1}\n"
          ]
        }
      ]
    },
    {
      "cell_type": "code",
      "source": [
        "'''14. Write a code to reverse a list in-place without using any built-in reverse functions.'''\n",
        "\n",
        "def reverse_list(lst):\n",
        "  n = len(lst)\n",
        "  for i in range(n//2):\n",
        "    lst[i] , lst[n-1-i] = lst[n-1-i] , lst[i] #swapping elements\n",
        "\n",
        "my_list= [2,3,4,5,6]\n",
        "reverse_list(my_list)\n",
        "print(my_list)"
      ],
      "metadata": {
        "id": "2seGfBDrU0cx",
        "colab": {
          "base_uri": "https://localhost:8080/"
        },
        "outputId": "04a30042-3e94-4982-883d-e936d947ff6b"
      },
      "execution_count": 96,
      "outputs": [
        {
          "output_type": "stream",
          "name": "stdout",
          "text": [
            "[6, 5, 4, 3, 2]\n"
          ]
        }
      ]
    },
    {
      "cell_type": "code",
      "source": [
        "'''15. Implement a code to find and remove duplicates from a list while preserving the original order of elements. '''\n",
        "\n",
        "def remove_duplicates(lst):\n",
        "  track = set()\n",
        "  result = []\n",
        "  for item in lst:\n",
        "    if item not in track:\n",
        "      track.add(item)\n",
        "      result.append(item)\n",
        "  return result\n",
        "\n",
        "#example\n",
        "my_list = [2,4,5,5,6,6,7,8,9,9,10]\n",
        "new_list = remove_duplicates(my_list)\n",
        "print(new_list)\n",
        "\n"
      ],
      "metadata": {
        "colab": {
          "base_uri": "https://localhost:8080/"
        },
        "id": "nzh3ujnSxHFE",
        "outputId": "1ba8dd7e-e936-450c-ecf4-1c899b8e88d3"
      },
      "execution_count": 97,
      "outputs": [
        {
          "output_type": "stream",
          "name": "stdout",
          "text": [
            "[2, 4, 5, 6, 7, 8, 9, 10]\n"
          ]
        }
      ]
    },
    {
      "cell_type": "code",
      "source": [
        "'''\"16. Create a code to check if a given list is sorted (either in ascending or descending order) or not.'''\n",
        "\n",
        "def is_sorted(lst):\n",
        "    if lst == sorted(lst):\n",
        "        return \"Sorted in ascending order\"\n",
        "    elif lst == sorted(lst, reverse=True):\n",
        "        return \"Sorted in descending order\"\n",
        "    else:\n",
        "        return \"Not sorted\"\n",
        "\n",
        "#example\n",
        "my_list1 = [1, 2, 3, 4, 5]\n",
        "my_list2 = [5, 4, 3, 2, 1]\n",
        "my_list3 = [1, 3, 2, 4, 5]\n",
        "\n",
        "print(is_sorted(my_list1))\n",
        "print(is_sorted(my_list2))\n",
        "print(is_sorted(my_list3))"
      ],
      "metadata": {
        "colab": {
          "base_uri": "https://localhost:8080/"
        },
        "id": "SyDdGzXGzGb7",
        "outputId": "4de42827-511e-4781-e854-ef97ff8b1e1f"
      },
      "execution_count": 98,
      "outputs": [
        {
          "output_type": "stream",
          "name": "stdout",
          "text": [
            "Sorted in ascending order\n",
            "Sorted in descending order\n",
            "Not sorted\n"
          ]
        }
      ]
    },
    {
      "cell_type": "code",
      "source": [
        "'''17.  Write a code to merge two sorted lists into a single sorted lists.'''\n",
        "def merge_sorted_lists(list1, list2):\n",
        "    merged_list = []\n",
        "    i, j = 0, 0\n",
        "    while i < len(list1) and j < len(list2):  #compare elements from both lists and merge them in sorted order\n",
        "        if list1[i] < list2[j]:\n",
        "            merged_list.append(list1[i])\n",
        "            i += 1\n",
        "        else:\n",
        "            merged_list.append(list2[j])\n",
        "            j += 1\n",
        "    while i < len(list1):  #if there are remaining elements in list1\n",
        "        merged_list.append(list1[i])\n",
        "        i += 1\n",
        "    while j < len(list2): #if there are remaining elements in list2\n",
        "        merged_list.append(list2[j])\n",
        "        j += 1\n",
        "    return merged_list\n",
        "\n",
        "#example\n",
        "list1 = [1, 3, 5]\n",
        "list2 = [2, 4, 6]\n",
        "merged = merge_sorted_lists(list1, list2)\n",
        "\n",
        "print(merged)"
      ],
      "metadata": {
        "colab": {
          "base_uri": "https://localhost:8080/"
        },
        "id": "BVHpQbfIz032",
        "outputId": "65d86a3b-9678-4b2c-ce78-f3b2573fde18"
      },
      "execution_count": 99,
      "outputs": [
        {
          "output_type": "stream",
          "name": "stdout",
          "text": [
            "[1, 2, 3, 4, 5, 6]\n"
          ]
        }
      ]
    },
    {
      "cell_type": "code",
      "source": [
        "'''18. Implement a code to find the intersection of two given lists.'''\n",
        "\n",
        "def intersection(list1, list2):\n",
        "    set2 = set(list2)  #convert the second list to a set for faster lookup\n",
        "    common_elements = [item for item in list1 if item in set2]  #use a list comprehension to find common elements\n",
        "    return common_elements\n",
        "\n",
        "#example\n",
        "list1 = [1, 2, 3, 4, 5]\n",
        "list2 = [4, 5, 6, 7, 8]\n",
        "common = intersection(list1, list2)\n",
        "\n",
        "print(common)\n"
      ],
      "metadata": {
        "colab": {
          "base_uri": "https://localhost:8080/"
        },
        "id": "A3veOr310vZk",
        "outputId": "109cefd5-2ef0-4d0f-a269-fe1b451b2f43"
      },
      "execution_count": 100,
      "outputs": [
        {
          "output_type": "stream",
          "name": "stdout",
          "text": [
            "[4, 5]\n"
          ]
        }
      ]
    },
    {
      "cell_type": "code",
      "source": [
        "'''19. Create a code to find the union of two lists without duplicates.'''\n",
        "\n",
        "def union(list1, list2):\n",
        "    return list(set(list1) | set(list2)) #convert both lists to sets and then combine them\n",
        "\n",
        "#example\n",
        "list1 = [1, 2, 3, 4, 5]\n",
        "list2 = [4, 5, 6, 7, 8]\n",
        "result = union(list1, list2)\n",
        "\n",
        "print(result)\n"
      ],
      "metadata": {
        "colab": {
          "base_uri": "https://localhost:8080/"
        },
        "id": "aL6QxbQn1gwv",
        "outputId": "08d1bae7-28b3-44fb-848b-865dc1a24125"
      },
      "execution_count": 101,
      "outputs": [
        {
          "output_type": "stream",
          "name": "stdout",
          "text": [
            "[1, 2, 3, 4, 5, 6, 7, 8]\n"
          ]
        }
      ]
    },
    {
      "cell_type": "code",
      "source": [
        "'''20. Write a code to shuffle a given list randomly without using any built-in shuffle functions.'''\n",
        "\n",
        "import random\n",
        "\n",
        "def shuffle_list(lst):\n",
        "    for i in range(len(lst) - 1, 0, -1): #iterate over the list in reverse order\n",
        "        j = random.randint(0, i) #generate a random index from 0 to i\n",
        "        lst[i], lst[j] = lst[j], lst[i] #swapping the elements at indices i and j\n",
        "\n",
        "#example\n",
        "my_list = [1, 2, 3, 4, 5]\n",
        "shuffle_list(my_list)\n",
        "\n",
        "print(my_list)"
      ],
      "metadata": {
        "colab": {
          "base_uri": "https://localhost:8080/"
        },
        "id": "2RVB8DiE187p",
        "outputId": "d9d7d4bb-f13e-4c27-c369-e03813dff692"
      },
      "execution_count": 102,
      "outputs": [
        {
          "output_type": "stream",
          "name": "stdout",
          "text": [
            "[5, 1, 2, 3, 4]\n"
          ]
        }
      ]
    },
    {
      "cell_type": "code",
      "source": [
        "'''21. Write a code that takes two tuples as input and returns a new tuple containing elements that are common to both input tuples.'''\n",
        "\n",
        "def common_elements(tup1,tup2):\n",
        "  common_set = set(tup1) & set(tup2)\n",
        "  return tuple(common_set)\n",
        "\n",
        "#example\n",
        "tuple1 = (1,2,3,4,5,6)\n",
        "tuple2 = (4,5,6,7,8,9)\n",
        "result = common_elements(tuple1,tuple2)\n",
        "print(result)"
      ],
      "metadata": {
        "colab": {
          "base_uri": "https://localhost:8080/"
        },
        "id": "nNBMeMDX28RE",
        "outputId": "3f9a490f-ba8d-4626-a9b0-984cc185a40d"
      },
      "execution_count": 103,
      "outputs": [
        {
          "output_type": "stream",
          "name": "stdout",
          "text": [
            "(4, 5, 6)\n"
          ]
        }
      ]
    },
    {
      "cell_type": "code",
      "source": [
        "'''22. Create a code that prompts the user to enter two sets of integers separated by commas. Then, print the intersection of these two sets.'''\n",
        "\n",
        "def get_set_from_input(prompt):\n",
        "    # Prompt the user for input and convert the input string to a set of integers\n",
        "    user_input = input(prompt)\n",
        "    return set(map(int, user_input.split(',')))\n",
        "\n",
        "def main():\n",
        "    # Get two sets from the user\n",
        "    set1 = get_set_from_input(\"Enter the first set of integers (separated by commas): \")\n",
        "    set2 = get_set_from_input(\"Enter the second set of integers (separated by commas): \")\n",
        "\n",
        "    # Find the intersection\n",
        "    intersection = set1 & set2\n",
        "\n",
        "    # Print the result\n",
        "    print(\"The intersection of the two sets is:\", intersection)\n",
        "\n",
        "# Run the program\n",
        "if __name__ == \"__main__\":\n",
        "    main()\n"
      ],
      "metadata": {
        "colab": {
          "base_uri": "https://localhost:8080/"
        },
        "id": "JCkK7wZo4Vhs",
        "outputId": "8fa3ea27-501f-4207-b1c0-f6e2c260484e"
      },
      "execution_count": 104,
      "outputs": [
        {
          "output_type": "stream",
          "name": "stdout",
          "text": [
            "Enter the first set of integers (separated by commas): 1,2,3,4,5,6\n",
            "Enter the second set of integers (separated by commas): 5,6,9,8,7\n",
            "The intersection of the two sets is: {5, 6}\n"
          ]
        }
      ]
    },
    {
      "cell_type": "code",
      "source": [
        "'''23. Write a code to concatenate two tuples. The function should take two tuples as input and return a new tuple containing elements from both input tuples.'''\n",
        "\n",
        "def concatenate_tuples(tuple1, tuple2):\n",
        "    return tuple1 + tuple2\n",
        "\n",
        "#example\n",
        "tuple1 = (1, 2, 3)\n",
        "tuple2 = (4, 5, 6)\n",
        "result = concatenate_tuples(tuple1, tuple2)\n",
        "\n",
        "print(result)"
      ],
      "metadata": {
        "colab": {
          "base_uri": "https://localhost:8080/"
        },
        "id": "2KFZR31l5j4C",
        "outputId": "594943ff-6e4b-44f8-d370-0d9fe0811502"
      },
      "execution_count": 105,
      "outputs": [
        {
          "output_type": "stream",
          "name": "stdout",
          "text": [
            "(1, 2, 3, 4, 5, 6)\n"
          ]
        }
      ]
    },
    {
      "cell_type": "code",
      "source": [
        "'''24. Develop a code that prompts the user to input two sets of strings. Then print the elments that are present in the first set but not in the second sets.'''\n",
        "\n",
        "def get_set_from_input(prompt):\n",
        "  user_input = input(prompt)\n",
        "  return set(user_input.split(\",\"))\n",
        "\n",
        "def main():\n",
        "  set1 = get_set_from_input(\"Enter first set of strings (separated by commas): \")\n",
        "  set2 = get_set_from_input(\"Enter second set of strings (separated by commas): \")\n",
        "  diff = set1 - set2\n",
        "  print(\"Elements in the first set not in the second set:\", diff)\n",
        "\n",
        "if __name__ == \"__main__\":\n",
        "  main()"
      ],
      "metadata": {
        "colab": {
          "base_uri": "https://localhost:8080/"
        },
        "id": "-X0xz_NA6OuG",
        "outputId": "153cc2ad-86e6-4307-9d83-efeb2ed50a58"
      },
      "execution_count": 118,
      "outputs": [
        {
          "output_type": "stream",
          "name": "stdout",
          "text": [
            "Enter first set of strings (separated by commas): Suman, shaw\n",
            "Enter second set of strings (separated by commas): Dharamendra, shaw\n",
            "Elements in the first set not in the second set: {'Suman'}\n"
          ]
        }
      ]
    },
    {
      "cell_type": "code",
      "source": [
        "''' 25. Create a code that takes a tuple and two integers as input. The function should return a new tuple containing elements from the original tuple within the specified range of indices.'''\n",
        "\n",
        "def extract_tuple_range(original_tuple, start_index, end_index):\n",
        "    return original_tuple[start_index:end_index] #return a new tuple containing elements from the specified index range\n",
        "\n",
        "#example\n",
        "my_tuple = (23,56,48,75,96,58)\n",
        "start = 1\n",
        "end = 5\n",
        "result = extract_tuple_range(my_tuple, start, end)\n",
        "print(result)"
      ],
      "metadata": {
        "colab": {
          "base_uri": "https://localhost:8080/"
        },
        "id": "AcEMFIwp8nxE",
        "outputId": "62ee8d8f-a0cd-44b1-aca0-86b88f5b52f4"
      },
      "execution_count": 107,
      "outputs": [
        {
          "output_type": "stream",
          "name": "stdout",
          "text": [
            "(56, 48, 75, 96)\n"
          ]
        }
      ]
    },
    {
      "cell_type": "code",
      "source": [
        "'''26. Write a code that prompts the user to input two sets of characters. Then print the union of these two sets.'''\n",
        "\n",
        "def get_set_from_input(prompt):\n",
        "    user_input = input(prompt)\n",
        "    return set(user_input)\n",
        "\n",
        "def main():\n",
        "    set1 = get_set_from_input(\"Enter the first set of characters: \")\n",
        "    set2 = get_set_from_input(\"Enter the second set of characters: \")\n",
        "    union_set = set1 | set2\n",
        "    print(\"The union of the two sets is:\", union_set)\n",
        "\n",
        "if __name__ == \"__main__\":\n",
        "    main()"
      ],
      "metadata": {
        "colab": {
          "base_uri": "https://localhost:8080/"
        },
        "id": "_p01wOB39oQS",
        "outputId": "0ab5dfb2-788d-4477-8adc-a24149f087d7"
      },
      "execution_count": 108,
      "outputs": [
        {
          "output_type": "stream",
          "name": "stdout",
          "text": [
            "Enter the first set of characters: Suman\n",
            "Enter the second set of characters: Shaw\n",
            "The union of the two sets is: {'w', 'h', 'a', 'S', 'u', 'm', 'n'}\n"
          ]
        }
      ]
    },
    {
      "cell_type": "code",
      "source": [
        "'''27. Develop a code that takes a tuple of integers as input. The function should return the maximum and minimum values from the tuple using tuple unpacking.'''\n",
        "\n",
        "def min_max_from_tuple(numbers):\n",
        "    min_value = min(numbers)  #using min and max functions to find the minimum and maximum values\n",
        "    max_value = max(numbers)\n",
        "    return min_value, max_value #returning both values as a tuple\n",
        "#example\n",
        "input_tuple = (4,5,6,8,7)\n",
        "min_value, max_value = min_max_from_tuple(input_tuple)\n",
        "\n",
        "print(\"Minimum value:\", min_value)\n",
        "print(\"Maximum value:\", max_value)"
      ],
      "metadata": {
        "colab": {
          "base_uri": "https://localhost:8080/"
        },
        "id": "5_2Ww39n-WZI",
        "outputId": "5548b605-f5b5-4243-a62a-8dbc9e05ffd2"
      },
      "execution_count": 109,
      "outputs": [
        {
          "output_type": "stream",
          "name": "stdout",
          "text": [
            "Minimum value: 4\n",
            "Maximum value: 8\n"
          ]
        }
      ]
    },
    {
      "cell_type": "code",
      "source": [
        "'''28. Create a code that defines two sets of integers. Then print the union intersection and difference of these two sets.'''\n",
        "\n",
        "def main():\n",
        "    set1 = {1, 2, 3, 4, 5} #defining two sets\n",
        "    set2 = {4, 5, 6, 7, 8}\n",
        "    union_set = set1 | set2  # Calculating union\n",
        "    intersection_set = set1 & set2 #intersection\n",
        "    difference_set = set1 - set2 #difference\n",
        "\n",
        "    print(\"Set 1:\", set1)\n",
        "    print(\"Set 2:\", set2)\n",
        "    print(\"Union:\", union_set)\n",
        "    print(\"Intersection:\", intersection_set)\n",
        "    print(\"Difference (Set 1 - Set 2):\", difference_set)\n",
        "\n",
        "if __name__ == \"__main__\":\n",
        "    main()"
      ],
      "metadata": {
        "colab": {
          "base_uri": "https://localhost:8080/"
        },
        "id": "qQ1p6F0qAAih",
        "outputId": "a0efea91-4920-46d5-e5fb-0bd9be9d7303"
      },
      "execution_count": 110,
      "outputs": [
        {
          "output_type": "stream",
          "name": "stdout",
          "text": [
            "Set 1: {1, 2, 3, 4, 5}\n",
            "Set 2: {4, 5, 6, 7, 8}\n",
            "Union: {1, 2, 3, 4, 5, 6, 7, 8}\n",
            "Intersection: {4, 5}\n",
            "Difference (Set 1 - Set 2): {1, 2, 3}\n"
          ]
        }
      ]
    },
    {
      "cell_type": "code",
      "source": [
        "'''29. Write a code that takes a tuple and an element as input. The function should return the count of occurrences of the given element in the tuple.'''\n",
        "\n",
        "def count_occurances(tup,element):\n",
        "  return tup.count(element)\n",
        "\n",
        "#example\n",
        "input_tuple = (1,2,2,3,5,4,4,8,9)\n",
        "element_to_count = 4\n",
        "occurrences = count_occurances(input_tuple,element_to_count)\n",
        "\n",
        "print(f\"The element {element_to_count} occurs {occurrences} times in the tuple: \")"
      ],
      "metadata": {
        "colab": {
          "base_uri": "https://localhost:8080/"
        },
        "id": "gAQEcbJvA6XS",
        "outputId": "796fdb02-311e-4b95-ce8c-022bf10c3a71"
      },
      "execution_count": 111,
      "outputs": [
        {
          "output_type": "stream",
          "name": "stdout",
          "text": [
            "The element 4 occurs 2 times in the tuple: \n"
          ]
        }
      ]
    },
    {
      "cell_type": "code",
      "source": [
        "'''30. Develop a code that prompts the user to input two sets of strings. Then print the symmetric difference of these two sets.'''\n",
        "\n",
        "def get_set_from_input(prompt):\n",
        "    user_input = input(prompt)\n",
        "    return set(user_input.split(','))\n",
        "\n",
        "def main():\n",
        "    set1 = get_set_from_input(\"Enter the first set of strings (separated by commas): \")\n",
        "    set2 = get_set_from_input(\"Enter the second set of strings (separated by commas): \")\n",
        "    symmetric_difference = set1 ^ set2\n",
        "    print(\"The symmetric difference of the two sets is:\", symmetric_difference)\n",
        "\n",
        "if __name__ == \"__main__\":\n",
        "    main()"
      ],
      "metadata": {
        "colab": {
          "base_uri": "https://localhost:8080/"
        },
        "id": "SlWkT31VCKmg",
        "outputId": "628a0491-c4af-4b0f-c473-a83364caf470"
      },
      "execution_count": 112,
      "outputs": [
        {
          "output_type": "stream",
          "name": "stdout",
          "text": [
            "Enter the first set of strings (separated by commas): Apple,Banana,cherry\n",
            "Enter the second set of strings (separated by commas): Mango,kiwi\n",
            "The symmetric difference of the two sets is: {'Mango', 'Banana', 'kiwi', 'Apple', 'cherry'}\n"
          ]
        }
      ]
    },
    {
      "cell_type": "code",
      "source": [
        "'''31. Write a code that takes a list of words as input and returns a dictionary where the keys are unique words and the values are the frequencies of those words in the input list.'''\n",
        "\n",
        "def word_frequencies(word_list):\n",
        "    frequency_dict = {}\n",
        "    for word in word_list:\n",
        "        word = word.lower()  #converting word to lowercase to count frequencies case-insensitively (optional)\n",
        "        if word in frequency_dict:\n",
        "            frequency_dict[word] += 1\n",
        "        else:\n",
        "            frequency_dict[word] = 1\n",
        "    return frequency_dict\n",
        "#example\n",
        "input_list = [\"apple\", \"banana\", \"apple\", \"orange\", \"banana\", \"kiwi\"]\n",
        "result = word_frequencies(input_list)\n",
        "\n",
        "print(result)"
      ],
      "metadata": {
        "colab": {
          "base_uri": "https://localhost:8080/"
        },
        "id": "JlnvAwptDAuc",
        "outputId": "ea8b320c-d442-4aa1-afd7-1c7d7ba11307"
      },
      "execution_count": 113,
      "outputs": [
        {
          "output_type": "stream",
          "name": "stdout",
          "text": [
            "{'apple': 2, 'banana': 2, 'orange': 1, 'kiwi': 1}\n"
          ]
        }
      ]
    },
    {
      "cell_type": "code",
      "source": [
        "'''32. Write a code that takes two dictionaries as input and merges them into a single dictionary. If there are common keys the values should be added together.'''\n",
        "\n",
        "def merge_dictionaries(dict1, dict2):\n",
        "    merged_dict = dict1.copy()  # Create a new dictionary to hold the merged results and Start with a copy of the first dictionary\n",
        "\n",
        "    for key, value in dict2.items():\n",
        "        if key in merged_dict:  # If the key is common, add the values\n",
        "            merged_dict[key] += value\n",
        "        else:                    # If the key is not common, add the key-value pair\n",
        "            merged_dict[key] = value\n",
        "    return merged_dict\n",
        "\n",
        "#example\n",
        "dict1 = {'a': 1, 'b': 2, 'c': 3}\n",
        "dict2 = {'b': 3, 'c': 1, 'd': 4}\n",
        "result = merge_dictionaries(dict1, dict2)\n",
        "\n",
        "print(result)"
      ],
      "metadata": {
        "colab": {
          "base_uri": "https://localhost:8080/"
        },
        "id": "s8n0aSVWEDQK",
        "outputId": "97ee5fc1-eb58-43bb-b459-72b099562db4"
      },
      "execution_count": 114,
      "outputs": [
        {
          "output_type": "stream",
          "name": "stdout",
          "text": [
            "{'a': 1, 'b': 5, 'c': 4, 'd': 4}\n"
          ]
        }
      ]
    },
    {
      "cell_type": "code",
      "source": [
        "'''33. Write a code to access a value in a nested dictionary. The function should take the dictionary and a list of keys as input and return the corresponding value. If any of the keys do not exist in the dictionary the function should return None.'''\n",
        "\n",
        "def access_nested_dict(nested_dict, keys):\n",
        "    # Initialize the current level of the dictionary\n",
        "    current_level = nested_dict\n",
        "\n",
        "    # Traverse the keys\n",
        "    for key in keys:\n",
        "        # Check if the key exists in the current level\n",
        "        if key in current_level:\n",
        "            current_level = current_level[key]  # Move to the next level\n",
        "        else:\n",
        "            return None  # Key does not exist, return None\n",
        "\n",
        "    return current_level  # Return the final value\n",
        "\n",
        "#example\n",
        "nested_dictionary = {'a': {'b': {'c': 1},'d': 2},'e': 4}\n",
        "\n",
        "keys_to_access = ['a', 'b','c']\n",
        "result = access_nested_dict(nested_dictionary, keys_to_access)\n",
        "\n",
        "print(result)\n",
        "\n",
        "# Test with a non-existing key\n",
        "keys_to_access_invalid = ['h', 'b', 'x']\n",
        "result_invalid = access_nested_dict(nested_dictionary, keys_to_access_invalid)\n",
        "\n",
        "print(result_invalid)"
      ],
      "metadata": {
        "colab": {
          "base_uri": "https://localhost:8080/"
        },
        "id": "_bs6EqjuFA1y",
        "outputId": "ff2c5c7b-c850-4962-f4cb-0d45d1fcf5cc"
      },
      "execution_count": 115,
      "outputs": [
        {
          "output_type": "stream",
          "name": "stdout",
          "text": [
            "1\n",
            "None\n"
          ]
        }
      ]
    },
    {
      "cell_type": "code",
      "source": [
        "'''34. Write a code that takes a dictionary as input and returns a sorted version of it based on the values. You can choose whether to sort in ascending or descending order.'''\n",
        "\n",
        "def sort_dictionary_by_values(input_dict, descending=False):\n",
        "    sorted_keys = sorted(input_dict, key=input_dict.get, reverse=descending)\n",
        "    sorted_dict = {key: input_dict[key] for key in sorted_keys}\n",
        "    return sorted_dict\n",
        "\n",
        "#example\n",
        "input_dict = {'a': 2, 'b': 4, 'c': 6}\n",
        "sorted_asc = sort_dictionary_by_values(input_dict)\n",
        "sorted_desc = sort_dictionary_by_values(input_dict, descending=True)\n",
        "\n",
        "print(\"Sorted in ascending order:\", sorted_asc)\n",
        "print(\"Sorted in descending order:\", sorted_desc)"
      ],
      "metadata": {
        "colab": {
          "base_uri": "https://localhost:8080/"
        },
        "id": "fTtTi84OHA2n",
        "outputId": "fc5d6cc2-e22b-4b96-d3ff-8aa9b1966beb"
      },
      "execution_count": 116,
      "outputs": [
        {
          "output_type": "stream",
          "name": "stdout",
          "text": [
            "Sorted in ascending order: {'a': 2, 'b': 4, 'c': 6}\n",
            "Sorted in descending order: {'c': 6, 'b': 4, 'a': 2}\n"
          ]
        }
      ]
    },
    {
      "cell_type": "code",
      "source": [
        "'''35. Write a code that inverts a dictionary swapping keys and values. Ensure that the inverted dictionary correctly handles cases where multiple keys have the same value by storing the keys as a list in the inverted dictionary.'''\n",
        "\n",
        "def invert_dictionary(input_dict):\n",
        "    inverted_dict = {}\n",
        "\n",
        "    for key, value in input_dict.items():\n",
        "        if value in inverted_dict:  # If the value is already a key in the inverted dictionary\n",
        "            inverted_dict[value].append(key)     # Append the key to the list of keys for that value\n",
        "        else:\n",
        "            inverted_dict[value] = [key]   # Create a new entry with the value as the key and the key as a list\n",
        "    return inverted_dict\n",
        "\n",
        "#example\n",
        "input_dict = {'a': 5, 'b': 6, 'c': 2, 'd': 2}\n",
        "inverted = invert_dictionary(input_dict)\n",
        "\n",
        "print(\"Inverted dictionary:\", inverted)"
      ],
      "metadata": {
        "colab": {
          "base_uri": "https://localhost:8080/"
        },
        "id": "-_zT8nGeIC2L",
        "outputId": "1f7350fe-6ac0-4274-fd7f-f16b0ec6243a"
      },
      "execution_count": 117,
      "outputs": [
        {
          "output_type": "stream",
          "name": "stdout",
          "text": [
            "Inverted dictionary: {5: ['a'], 6: ['b'], 2: ['c', 'd']}\n"
          ]
        }
      ]
    }
  ]
}